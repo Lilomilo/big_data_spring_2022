{
 "cells": [
  {
   "cell_type": "code",
   "execution_count": 1,
   "metadata": {},
   "outputs": [],
   "source": [
    "import os\n",
    "import re\n",
    "import json\n",
    "import socket\n",
    "import subprocess\n",
    "import pandas as pd\n",
    "import seaborn as sns\n",
    "import matplotlib.pyplot as plt\n",
    "from pyspark import SparkContext, SparkConf\n",
    "from pyspark.sql import SparkSession\n",
    "from pyspark.sql import utils as pu\n",
    "from pyspark.sql import functions as F\n",
    "from pyspark.sql import types as pt"
   ]
  },
  {
   "cell_type": "markdown",
   "metadata": {},
   "source": [
    "## Assignment #1 \n",
    "\n",
    "This task rely on to "
   ]
  },
  {
   "cell_type": "code",
   "execution_count": 2,
   "metadata": {},
   "outputs": [
    {
     "name": "stdout",
     "output_type": "stream",
     "text": [
      "user: /user/st061465/\n"
     ]
    },
    {
     "name": "stderr",
     "output_type": "stream",
     "text": [
      "22/05/20 10:52:51 WARN NativeCodeLoader: Unable to load native-hadoop library for your platform... using builtin-java classes where applicable\n",
      "Using Spark's default log4j profile: org/apache/spark/log4j-defaults.properties\n",
      "Setting default log level to \"WARN\".\n",
      "To adjust logging level use sc.setLogLevel(newLevel). For SparkR, use setLogLevel(newLevel).\n"
     ]
    },
    {
     "data": {
      "text/html": [
       "\n",
       "            <div>\n",
       "                <p><b>SparkSession - in-memory</b></p>\n",
       "                \n",
       "        <div>\n",
       "            <p><b>SparkContext</b></p>\n",
       "\n",
       "            <p><a href=\"/user/st061465/proxy/4040/jobs/\">Spark UI</a></p>\n",
       "\n",
       "            <dl>\n",
       "              <dt>Version</dt>\n",
       "                <dd><code>v3.1.2</code></dd>\n",
       "              <dt>Master</dt>\n",
       "                <dd><code>local[*]</code></dd>\n",
       "              <dt>AppName</dt>\n",
       "                <dd><code>pyspark-shell</code></dd>\n",
       "            </dl>\n",
       "        </div>\n",
       "        \n",
       "            </div>\n",
       "        "
      ],
      "text/plain": [
       "<pyspark.sql.session.SparkSession at 0x7f3aac007e20>"
      ]
     },
     "execution_count": 2,
     "metadata": {},
     "output_type": "execute_result"
    }
   ],
   "source": [
    "print('user:', os.environ['JUPYTERHUB_SERVICE_PREFIX'])\n",
    "\n",
    "def uiWebUrl(self):\n",
    "    from urllib.parse import urlparse\n",
    "    web_url = self._jsc.sc().uiWebUrl().get()\n",
    "    port = urlparse(web_url).port\n",
    "    return '{}proxy/{}/jobs/'.format(os.environ['JUPYTERHUB_SERVICE_PREFIX'], port)\n",
    "\n",
    "SparkContext.uiWebUrl = property(uiWebUrl)\n",
    "\n",
    "conf = SparkConf().set('spark.master', 'local[*]').set('spark.driver.memory', '4g').set(\"spark.executor.instances\", \"4\")\n",
    "sc = SparkContext(conf=conf)\n",
    "spark = SparkSession(sc)\n",
    "spark"
   ]
  },
  {
   "cell_type": "markdown",
   "metadata": {},
   "source": [
    "## Songs \n",
    "\n",
    "The songs. Note that data is in unicode.\n",
    "\n",
    "- song_id\n",
    "- song_length: in ms\n",
    "- genre_ids: genre category. Some songs have multiple genres and they are separated by |\n",
    "- artist_name\n",
    "- composer\n",
    "- lyricist\n",
    "- language\n"
   ]
  },
  {
   "cell_type": "code",
   "execution_count": 3,
   "metadata": {},
   "outputs": [
    {
     "name": "stderr",
     "output_type": "stream",
     "text": [
      "                                                                                \r"
     ]
    },
    {
     "data": {
      "text/html": [
       "<div>\n",
       "<style scoped>\n",
       "    .dataframe tbody tr th:only-of-type {\n",
       "        vertical-align: middle;\n",
       "    }\n",
       "\n",
       "    .dataframe tbody tr th {\n",
       "        vertical-align: top;\n",
       "    }\n",
       "\n",
       "    .dataframe thead th {\n",
       "        text-align: right;\n",
       "    }\n",
       "</style>\n",
       "<table border=\"1\" class=\"dataframe\">\n",
       "  <thead>\n",
       "    <tr style=\"text-align: right;\">\n",
       "      <th></th>\n",
       "      <th>song_id</th>\n",
       "      <th>song_length</th>\n",
       "      <th>genre_ids</th>\n",
       "      <th>artist_name</th>\n",
       "      <th>composer</th>\n",
       "      <th>lyricist</th>\n",
       "      <th>language</th>\n",
       "    </tr>\n",
       "  </thead>\n",
       "  <tbody>\n",
       "    <tr>\n",
       "      <th>0</th>\n",
       "      <td>CXoTN1eb7AI+DntdU1vbcwGRV4SCIDxZu+YD8JP8r4E=</td>\n",
       "      <td>247640</td>\n",
       "      <td>465</td>\n",
       "      <td>張信哲 (Jeff Chang)</td>\n",
       "      <td>董貞</td>\n",
       "      <td>何啟弘</td>\n",
       "      <td>3.0</td>\n",
       "    </tr>\n",
       "    <tr>\n",
       "      <th>1</th>\n",
       "      <td>o0kFgae9QtnYgRkVPqLJwa05zIhRlUjfF7O1tDw0ZDU=</td>\n",
       "      <td>197328</td>\n",
       "      <td>444</td>\n",
       "      <td>BLACKPINK</td>\n",
       "      <td>TEDDY|  FUTURE BOUNCE|  Bekuh BOOM</td>\n",
       "      <td>TEDDY</td>\n",
       "      <td>31.0</td>\n",
       "    </tr>\n",
       "    <tr>\n",
       "      <th>2</th>\n",
       "      <td>DwVvVurfpuz+XPuFvucclVQEyPqcpUkHR0ne1RQzPs0=</td>\n",
       "      <td>231781</td>\n",
       "      <td>465</td>\n",
       "      <td>SUPER JUNIOR</td>\n",
       "      <td>None</td>\n",
       "      <td>None</td>\n",
       "      <td>31.0</td>\n",
       "    </tr>\n",
       "    <tr>\n",
       "      <th>3</th>\n",
       "      <td>dKMBWoZyScdxSkihKG+Vf47nc18N9q4m58+b4e7dSSE=</td>\n",
       "      <td>273554</td>\n",
       "      <td>465</td>\n",
       "      <td>S.H.E</td>\n",
       "      <td>湯小康</td>\n",
       "      <td>徐世珍</td>\n",
       "      <td>3.0</td>\n",
       "    </tr>\n",
       "    <tr>\n",
       "      <th>4</th>\n",
       "      <td>W3bqWd3T+VeHFzHAUfARgW9AvVRaF4N5Yzm4Mr6Eo/o=</td>\n",
       "      <td>140329</td>\n",
       "      <td>726</td>\n",
       "      <td>貴族精選</td>\n",
       "      <td>Traditional</td>\n",
       "      <td>Traditional</td>\n",
       "      <td>52.0</td>\n",
       "    </tr>\n",
       "    <tr>\n",
       "      <th>5</th>\n",
       "      <td>kKJ2JNU5h8rphyW21ovC+RZU+yEHPM+3w85J37p7vEQ=</td>\n",
       "      <td>235520</td>\n",
       "      <td>864|857|850|843</td>\n",
       "      <td>貴族精選</td>\n",
       "      <td>Joe Hisaishi</td>\n",
       "      <td>Hayao Miyazaki</td>\n",
       "      <td>17.0</td>\n",
       "    </tr>\n",
       "    <tr>\n",
       "      <th>6</th>\n",
       "      <td>N9vbanw7BSMoUgdfJlgX1aZPE1XZg8OS1wf88AQEcMc=</td>\n",
       "      <td>226220</td>\n",
       "      <td>458</td>\n",
       "      <td>伍佰 &amp; China Blue</td>\n",
       "      <td>Jonathan Lee</td>\n",
       "      <td>None</td>\n",
       "      <td>3.0</td>\n",
       "    </tr>\n",
       "    <tr>\n",
       "      <th>7</th>\n",
       "      <td>GsCpr618xfveHYJdo+E5SybrpR906tsjLMeKyrCNw8s=</td>\n",
       "      <td>276793</td>\n",
       "      <td>465</td>\n",
       "      <td>光良 (Michael Wong)</td>\n",
       "      <td>光良</td>\n",
       "      <td>彭資閔</td>\n",
       "      <td>3.0</td>\n",
       "    </tr>\n",
       "    <tr>\n",
       "      <th>8</th>\n",
       "      <td>oTi7oINPX+rxoGp+3O6llSltQTl80jDqHoULfRoLcG4=</td>\n",
       "      <td>228623</td>\n",
       "      <td>465</td>\n",
       "      <td>林俊傑 (JJ Lin)</td>\n",
       "      <td>JJ Lin</td>\n",
       "      <td>Wu Qing Feng</td>\n",
       "      <td>3.0</td>\n",
       "    </tr>\n",
       "    <tr>\n",
       "      <th>9</th>\n",
       "      <td>btcG03OHY3GNKWccPP0auvtSbhxog/kllIIOx5grE/k=</td>\n",
       "      <td>232629</td>\n",
       "      <td>352|1995</td>\n",
       "      <td>Kodaline</td>\n",
       "      <td>Stephen Garrigan| Mark Prendergast| Vincent Ma...</td>\n",
       "      <td>Stephen Garrigan| Mark Prendergast| Vincent Ma...</td>\n",
       "      <td>52.0</td>\n",
       "    </tr>\n",
       "  </tbody>\n",
       "</table>\n",
       "</div>"
      ],
      "text/plain": [
       "                                        song_id song_length        genre_ids  \\\n",
       "0  CXoTN1eb7AI+DntdU1vbcwGRV4SCIDxZu+YD8JP8r4E=      247640              465   \n",
       "1  o0kFgae9QtnYgRkVPqLJwa05zIhRlUjfF7O1tDw0ZDU=      197328              444   \n",
       "2  DwVvVurfpuz+XPuFvucclVQEyPqcpUkHR0ne1RQzPs0=      231781              465   \n",
       "3  dKMBWoZyScdxSkihKG+Vf47nc18N9q4m58+b4e7dSSE=      273554              465   \n",
       "4  W3bqWd3T+VeHFzHAUfARgW9AvVRaF4N5Yzm4Mr6Eo/o=      140329              726   \n",
       "5  kKJ2JNU5h8rphyW21ovC+RZU+yEHPM+3w85J37p7vEQ=      235520  864|857|850|843   \n",
       "6  N9vbanw7BSMoUgdfJlgX1aZPE1XZg8OS1wf88AQEcMc=      226220              458   \n",
       "7  GsCpr618xfveHYJdo+E5SybrpR906tsjLMeKyrCNw8s=      276793              465   \n",
       "8  oTi7oINPX+rxoGp+3O6llSltQTl80jDqHoULfRoLcG4=      228623              465   \n",
       "9  btcG03OHY3GNKWccPP0auvtSbhxog/kllIIOx5grE/k=      232629         352|1995   \n",
       "\n",
       "         artist_name                                           composer  \\\n",
       "0   張信哲 (Jeff Chang)                                                 董貞   \n",
       "1          BLACKPINK                 TEDDY|  FUTURE BOUNCE|  Bekuh BOOM   \n",
       "2       SUPER JUNIOR                                               None   \n",
       "3              S.H.E                                                湯小康   \n",
       "4               貴族精選                                        Traditional   \n",
       "5               貴族精選                                       Joe Hisaishi   \n",
       "6    伍佰 & China Blue                                       Jonathan Lee   \n",
       "7  光良 (Michael Wong)                                                 光良   \n",
       "8       林俊傑 (JJ Lin)                                             JJ Lin   \n",
       "9           Kodaline  Stephen Garrigan| Mark Prendergast| Vincent Ma...   \n",
       "\n",
       "                                            lyricist language  \n",
       "0                                                何啟弘      3.0  \n",
       "1                                              TEDDY     31.0  \n",
       "2                                               None     31.0  \n",
       "3                                                徐世珍      3.0  \n",
       "4                                        Traditional     52.0  \n",
       "5                                     Hayao Miyazaki     17.0  \n",
       "6                                               None      3.0  \n",
       "7                                                彭資閔      3.0  \n",
       "8                                       Wu Qing Feng      3.0  \n",
       "9  Stephen Garrigan| Mark Prendergast| Vincent Ma...     52.0  "
      ]
     },
     "execution_count": 3,
     "metadata": {},
     "output_type": "execute_result"
    }
   ],
   "source": [
    "songs = spark.read.option(\"header\", \"True\")\\\n",
    "    .csv(\"file:///home/jovyan/__DATA/big_data_2022/labs/kkbox-music-recommendation-challenge/songs.csv\")\n",
    "\n",
    "songs.limit(100).toPandas().head(10)"
   ]
  },
  {
   "cell_type": "markdown",
   "metadata": {},
   "source": [
    "## \"Train\" data\n",
    "\n",
    "Some data of users listen history \n",
    "\n",
    "- msno: user id\n",
    "- song_id: song id\n",
    "- source_system_tab: the name of the tab where the event was triggered. System tabs are used to categorize KKBOX mobile apps functions. For example, tab my library contains functions to manipulate the local storage, and tab search contains functions relating to search.\n",
    "- source_screen_name: name of the layout a user sees.\n",
    "- source_type: an entry point a user first plays music on mobile apps. An entry point could be album, online-playlist, song .. etc.\n",
    "- target: this is the target variable. target=1 means there are recurring listening event(s) triggered within a month after the user’s very first observable listening event, target=0 otherwise .\n"
   ]
  },
  {
   "cell_type": "code",
   "execution_count": 4,
   "metadata": {},
   "outputs": [
    {
     "data": {
      "text/html": [
       "<div>\n",
       "<style scoped>\n",
       "    .dataframe tbody tr th:only-of-type {\n",
       "        vertical-align: middle;\n",
       "    }\n",
       "\n",
       "    .dataframe tbody tr th {\n",
       "        vertical-align: top;\n",
       "    }\n",
       "\n",
       "    .dataframe thead th {\n",
       "        text-align: right;\n",
       "    }\n",
       "</style>\n",
       "<table border=\"1\" class=\"dataframe\">\n",
       "  <thead>\n",
       "    <tr style=\"text-align: right;\">\n",
       "      <th></th>\n",
       "      <th>msno</th>\n",
       "      <th>song_id</th>\n",
       "      <th>source_system_tab</th>\n",
       "      <th>source_screen_name</th>\n",
       "      <th>source_type</th>\n",
       "      <th>target</th>\n",
       "    </tr>\n",
       "  </thead>\n",
       "  <tbody>\n",
       "    <tr>\n",
       "      <th>0</th>\n",
       "      <td>FGtllVqz18RPiwJj/edr2gV78zirAiY/9SmYvia+kCg=</td>\n",
       "      <td>BBzumQNXUHKdEBOB7mAJuzok+IJA1c2Ryg/yzTF6tik=</td>\n",
       "      <td>explore</td>\n",
       "      <td>Explore</td>\n",
       "      <td>online-playlist</td>\n",
       "      <td>1</td>\n",
       "    </tr>\n",
       "    <tr>\n",
       "      <th>1</th>\n",
       "      <td>Xumu+NIjS6QYVxDS4/t3SawvJ7viT9hPKXmf0RtLNx8=</td>\n",
       "      <td>bhp/MpSNoqoxOIB+/l8WPqu6jldth4DIpCm3ayXnJqM=</td>\n",
       "      <td>my library</td>\n",
       "      <td>Local playlist more</td>\n",
       "      <td>local-playlist</td>\n",
       "      <td>1</td>\n",
       "    </tr>\n",
       "    <tr>\n",
       "      <th>2</th>\n",
       "      <td>Xumu+NIjS6QYVxDS4/t3SawvJ7viT9hPKXmf0RtLNx8=</td>\n",
       "      <td>JNWfrrC7zNN7BdMpsISKa4Mw+xVJYNnxXh3/Epw7QgY=</td>\n",
       "      <td>my library</td>\n",
       "      <td>Local playlist more</td>\n",
       "      <td>local-playlist</td>\n",
       "      <td>1</td>\n",
       "    </tr>\n",
       "    <tr>\n",
       "      <th>3</th>\n",
       "      <td>Xumu+NIjS6QYVxDS4/t3SawvJ7viT9hPKXmf0RtLNx8=</td>\n",
       "      <td>2A87tzfnJTSWqD7gIZHisolhe4DMdzkbd6LzO1KHjNs=</td>\n",
       "      <td>my library</td>\n",
       "      <td>Local playlist more</td>\n",
       "      <td>local-playlist</td>\n",
       "      <td>1</td>\n",
       "    </tr>\n",
       "    <tr>\n",
       "      <th>4</th>\n",
       "      <td>FGtllVqz18RPiwJj/edr2gV78zirAiY/9SmYvia+kCg=</td>\n",
       "      <td>3qm6XTZ6MOCU11x8FIVbAGH5l5uMkT3/ZalWG1oo2Gc=</td>\n",
       "      <td>explore</td>\n",
       "      <td>Explore</td>\n",
       "      <td>online-playlist</td>\n",
       "      <td>1</td>\n",
       "    </tr>\n",
       "    <tr>\n",
       "      <th>5</th>\n",
       "      <td>FGtllVqz18RPiwJj/edr2gV78zirAiY/9SmYvia+kCg=</td>\n",
       "      <td>3Hg5kugV1S0wzEVLAEfqjIV5UHzb7bCrdBRQlGygLvU=</td>\n",
       "      <td>explore</td>\n",
       "      <td>Explore</td>\n",
       "      <td>online-playlist</td>\n",
       "      <td>1</td>\n",
       "    </tr>\n",
       "    <tr>\n",
       "      <th>6</th>\n",
       "      <td>Xumu+NIjS6QYVxDS4/t3SawvJ7viT9hPKXmf0RtLNx8=</td>\n",
       "      <td>VkILU0H1h3NMmk9MQrXouNudGk5n8Ls5cqRRuBxeTh4=</td>\n",
       "      <td>my library</td>\n",
       "      <td>Local playlist more</td>\n",
       "      <td>local-playlist</td>\n",
       "      <td>1</td>\n",
       "    </tr>\n",
       "    <tr>\n",
       "      <th>7</th>\n",
       "      <td>FGtllVqz18RPiwJj/edr2gV78zirAiY/9SmYvia+kCg=</td>\n",
       "      <td>bPIvRTzfHxH5LgHrStll+tYwSQNVV8PySgA3M1PfTgc=</td>\n",
       "      <td>explore</td>\n",
       "      <td>Explore</td>\n",
       "      <td>online-playlist</td>\n",
       "      <td>1</td>\n",
       "    </tr>\n",
       "    <tr>\n",
       "      <th>8</th>\n",
       "      <td>uHqAtShXTRXju5GE8ri3ITsVFepPf8jUoCF7ffNOuqE=</td>\n",
       "      <td>/bU6IRSK+YNlNbaTkxo7bhsb2EDLPrnksdX3ggcZNhI=</td>\n",
       "      <td>my library</td>\n",
       "      <td>Local playlist more</td>\n",
       "      <td>local-library</td>\n",
       "      <td>1</td>\n",
       "    </tr>\n",
       "    <tr>\n",
       "      <th>9</th>\n",
       "      <td>uHqAtShXTRXju5GE8ri3ITsVFepPf8jUoCF7ffNOuqE=</td>\n",
       "      <td>EbI7xoNxI+3QSsiHxL13zBdgHIJOwa3srHd7cDcnJ0g=</td>\n",
       "      <td>my library</td>\n",
       "      <td>Local playlist more</td>\n",
       "      <td>local-library</td>\n",
       "      <td>1</td>\n",
       "    </tr>\n",
       "  </tbody>\n",
       "</table>\n",
       "</div>"
      ],
      "text/plain": [
       "                                           msno  \\\n",
       "0  FGtllVqz18RPiwJj/edr2gV78zirAiY/9SmYvia+kCg=   \n",
       "1  Xumu+NIjS6QYVxDS4/t3SawvJ7viT9hPKXmf0RtLNx8=   \n",
       "2  Xumu+NIjS6QYVxDS4/t3SawvJ7viT9hPKXmf0RtLNx8=   \n",
       "3  Xumu+NIjS6QYVxDS4/t3SawvJ7viT9hPKXmf0RtLNx8=   \n",
       "4  FGtllVqz18RPiwJj/edr2gV78zirAiY/9SmYvia+kCg=   \n",
       "5  FGtllVqz18RPiwJj/edr2gV78zirAiY/9SmYvia+kCg=   \n",
       "6  Xumu+NIjS6QYVxDS4/t3SawvJ7viT9hPKXmf0RtLNx8=   \n",
       "7  FGtllVqz18RPiwJj/edr2gV78zirAiY/9SmYvia+kCg=   \n",
       "8  uHqAtShXTRXju5GE8ri3ITsVFepPf8jUoCF7ffNOuqE=   \n",
       "9  uHqAtShXTRXju5GE8ri3ITsVFepPf8jUoCF7ffNOuqE=   \n",
       "\n",
       "                                        song_id source_system_tab  \\\n",
       "0  BBzumQNXUHKdEBOB7mAJuzok+IJA1c2Ryg/yzTF6tik=           explore   \n",
       "1  bhp/MpSNoqoxOIB+/l8WPqu6jldth4DIpCm3ayXnJqM=        my library   \n",
       "2  JNWfrrC7zNN7BdMpsISKa4Mw+xVJYNnxXh3/Epw7QgY=        my library   \n",
       "3  2A87tzfnJTSWqD7gIZHisolhe4DMdzkbd6LzO1KHjNs=        my library   \n",
       "4  3qm6XTZ6MOCU11x8FIVbAGH5l5uMkT3/ZalWG1oo2Gc=           explore   \n",
       "5  3Hg5kugV1S0wzEVLAEfqjIV5UHzb7bCrdBRQlGygLvU=           explore   \n",
       "6  VkILU0H1h3NMmk9MQrXouNudGk5n8Ls5cqRRuBxeTh4=        my library   \n",
       "7  bPIvRTzfHxH5LgHrStll+tYwSQNVV8PySgA3M1PfTgc=           explore   \n",
       "8  /bU6IRSK+YNlNbaTkxo7bhsb2EDLPrnksdX3ggcZNhI=        my library   \n",
       "9  EbI7xoNxI+3QSsiHxL13zBdgHIJOwa3srHd7cDcnJ0g=        my library   \n",
       "\n",
       "    source_screen_name      source_type target  \n",
       "0              Explore  online-playlist      1  \n",
       "1  Local playlist more   local-playlist      1  \n",
       "2  Local playlist more   local-playlist      1  \n",
       "3  Local playlist more   local-playlist      1  \n",
       "4              Explore  online-playlist      1  \n",
       "5              Explore  online-playlist      1  \n",
       "6  Local playlist more   local-playlist      1  \n",
       "7              Explore  online-playlist      1  \n",
       "8  Local playlist more    local-library      1  \n",
       "9  Local playlist more    local-library      1  "
      ]
     },
     "execution_count": 4,
     "metadata": {},
     "output_type": "execute_result"
    }
   ],
   "source": [
    "listen_history = spark.read.option(\"header\", \"True\")\\\n",
    "    .csv(\"file:///home/jovyan/__DATA/big_data_2022/labs/kkbox-music-recommendation-challenge/train.csv\")\n",
    "\n",
    "#listen_history.show()\n",
    "listen_history.limit(100).toPandas().head(10)"
   ]
  },
  {
   "cell_type": "markdown",
   "metadata": {},
   "source": [
    "## Additional info on the songs"
   ]
  },
  {
   "cell_type": "markdown",
   "metadata": {},
   "source": [
    "File is not in the folder :(\n",
    "```python\n",
    "songs = spark.read.option(\"header\", \"True\")\\\n",
    "    .csv(\"file:///home/jovyan/malyutin_temp/kkbox-music-recommendation-challenge/song_extra_info.csv\")\n",
    "\n",
    "songs.limit(100).toPandas().head(10)\n",
    "```"
   ]
  },
  {
   "cell_type": "markdown",
   "metadata": {},
   "source": [
    "## Assignment:\n",
    "\n",
    "PREFER DATA FRAME API(!)\n",
    "\n",
    "Vision of result:\n",
    "- self-sufficient jupyter notebook\n",
    "- not only the code but n\n",
    "- published on github \n",
    "- link to your github attached here https://docs.google.com/spreadsheets/d/1F8ScpCCiBaxiyZqDd09jn6t25pykiK8oauJbRuuA8Q4/edit?usp=sharing\n",
    "\n",
    "\n",
    "Task 1: \n",
    "- Find out top-20 of most popular artist's in terms of: raw listens, unique users listens;\n",
    "\n",
    "Task 2: \n",
    "- find out top-3 languages by num of raw listens\n",
    "- build histogram of songs length by language / genre. What is the longest genre? What is more valuable in terms of length: language or genre? \n",
    "\n",
    "Deadlines:\n",
    "- soft 17.05\n",
    "- hard 24.05"
   ]
  },
  {
   "cell_type": "markdown",
   "metadata": {},
   "source": [
    "#### Task 1\n",
    "\n",
    "Find out top-20 of most popular artist's in terms of: raw listens, unique users listens\n",
    "\n",
    "##### Approach:\n",
    "`raw_listeners`: all the listeners who listened to songs written by certain atrists without correction for uniqueness, users may duplicate; \n",
    "`unique_listeners`: the listeners who listened to songs written by certain atrists with correction for unqieness, users cannot duplicate."
   ]
  },
  {
   "cell_type": "code",
   "execution_count": 5,
   "metadata": {},
   "outputs": [],
   "source": [
    "# Create a local temporary view with DataFrame\n",
    "listen_history.createOrReplaceTempView(\"listen_history\")\n",
    "songs.createOrReplaceTempView(\"songs\")"
   ]
  },
  {
   "cell_type": "code",
   "execution_count": 7,
   "metadata": {},
   "outputs": [
    {
     "name": "stderr",
     "output_type": "stream",
     "text": [
      "                                                                                \r"
     ]
    },
    {
     "data": {
      "text/html": [
       "<div>\n",
       "<style scoped>\n",
       "    .dataframe tbody tr th:only-of-type {\n",
       "        vertical-align: middle;\n",
       "    }\n",
       "\n",
       "    .dataframe tbody tr th {\n",
       "        vertical-align: top;\n",
       "    }\n",
       "\n",
       "    .dataframe thead th {\n",
       "        text-align: right;\n",
       "    }\n",
       "</style>\n",
       "<table border=\"1\" class=\"dataframe\">\n",
       "  <thead>\n",
       "    <tr style=\"text-align: right;\">\n",
       "      <th></th>\n",
       "      <th>artist</th>\n",
       "      <th>raw_listeners</th>\n",
       "      <th>unique_listeners</th>\n",
       "    </tr>\n",
       "  </thead>\n",
       "  <tbody>\n",
       "    <tr>\n",
       "      <th>0</th>\n",
       "      <td>Various Artists</td>\n",
       "      <td>303617</td>\n",
       "      <td>22256</td>\n",
       "    </tr>\n",
       "    <tr>\n",
       "      <th>1</th>\n",
       "      <td>周杰倫 (Jay Chou)</td>\n",
       "      <td>186776</td>\n",
       "      <td>18727</td>\n",
       "    </tr>\n",
       "    <tr>\n",
       "      <th>2</th>\n",
       "      <td>五月天 (Mayday)</td>\n",
       "      <td>182088</td>\n",
       "      <td>18183</td>\n",
       "    </tr>\n",
       "    <tr>\n",
       "      <th>3</th>\n",
       "      <td>林俊傑 (JJ Lin)</td>\n",
       "      <td>115325</td>\n",
       "      <td>17160</td>\n",
       "    </tr>\n",
       "    <tr>\n",
       "      <th>4</th>\n",
       "      <td>田馥甄 (Hebe)</td>\n",
       "      <td>104946</td>\n",
       "      <td>18771</td>\n",
       "    </tr>\n",
       "    <tr>\n",
       "      <th>5</th>\n",
       "      <td>aMEI (張惠妹)</td>\n",
       "      <td>82799</td>\n",
       "      <td>15169</td>\n",
       "    </tr>\n",
       "    <tr>\n",
       "      <th>6</th>\n",
       "      <td>陳奕迅 (Eason Chan)</td>\n",
       "      <td>76035</td>\n",
       "      <td>16290</td>\n",
       "    </tr>\n",
       "    <tr>\n",
       "      <th>7</th>\n",
       "      <td>玖壹壹</td>\n",
       "      <td>70445</td>\n",
       "      <td>12487</td>\n",
       "    </tr>\n",
       "    <tr>\n",
       "      <th>8</th>\n",
       "      <td>G.E.M.鄧紫棋</td>\n",
       "      <td>67297</td>\n",
       "      <td>16064</td>\n",
       "    </tr>\n",
       "    <tr>\n",
       "      <th>9</th>\n",
       "      <td>BIGBANG</td>\n",
       "      <td>61927</td>\n",
       "      <td>10366</td>\n",
       "    </tr>\n",
       "    <tr>\n",
       "      <th>10</th>\n",
       "      <td>謝和弦 (R-chord)</td>\n",
       "      <td>57040</td>\n",
       "      <td>15313</td>\n",
       "    </tr>\n",
       "    <tr>\n",
       "      <th>11</th>\n",
       "      <td>Maroon 5</td>\n",
       "      <td>55151</td>\n",
       "      <td>11963</td>\n",
       "    </tr>\n",
       "    <tr>\n",
       "      <th>12</th>\n",
       "      <td>A-Lin</td>\n",
       "      <td>52913</td>\n",
       "      <td>11874</td>\n",
       "    </tr>\n",
       "    <tr>\n",
       "      <th>13</th>\n",
       "      <td>Eric 周興哲</td>\n",
       "      <td>49426</td>\n",
       "      <td>15672</td>\n",
       "    </tr>\n",
       "    <tr>\n",
       "      <th>14</th>\n",
       "      <td>蔡依林 (Jolin Tsai)</td>\n",
       "      <td>49055</td>\n",
       "      <td>9642</td>\n",
       "    </tr>\n",
       "    <tr>\n",
       "      <th>15</th>\n",
       "      <td>蘇打綠 (Sodagreen)</td>\n",
       "      <td>47177</td>\n",
       "      <td>11265</td>\n",
       "    </tr>\n",
       "    <tr>\n",
       "      <th>16</th>\n",
       "      <td>楊丞琳 (Rainie Yang)</td>\n",
       "      <td>46006</td>\n",
       "      <td>11976</td>\n",
       "    </tr>\n",
       "    <tr>\n",
       "      <th>17</th>\n",
       "      <td>丁噹 (Della)</td>\n",
       "      <td>45762</td>\n",
       "      <td>12837</td>\n",
       "    </tr>\n",
       "    <tr>\n",
       "      <th>18</th>\n",
       "      <td>梁靜茹 (Fish Leong)</td>\n",
       "      <td>44290</td>\n",
       "      <td>8579</td>\n",
       "    </tr>\n",
       "    <tr>\n",
       "      <th>19</th>\n",
       "      <td>The Chainsmokers</td>\n",
       "      <td>44215</td>\n",
       "      <td>12477</td>\n",
       "    </tr>\n",
       "  </tbody>\n",
       "</table>\n",
       "</div>"
      ],
      "text/plain": [
       "               artist  raw_listeners  unique_listeners\n",
       "0     Various Artists         303617             22256\n",
       "1      周杰倫 (Jay Chou)         186776             18727\n",
       "2        五月天 (Mayday)         182088             18183\n",
       "3        林俊傑 (JJ Lin)         115325             17160\n",
       "4          田馥甄 (Hebe)         104946             18771\n",
       "5          aMEI (張惠妹)          82799             15169\n",
       "6    陳奕迅 (Eason Chan)          76035             16290\n",
       "7                 玖壹壹          70445             12487\n",
       "8           G.E.M.鄧紫棋          67297             16064\n",
       "9             BIGBANG          61927             10366\n",
       "10      謝和弦 (R-chord)          57040             15313\n",
       "11           Maroon 5          55151             11963\n",
       "12              A-Lin          52913             11874\n",
       "13           Eric 周興哲          49426             15672\n",
       "14   蔡依林 (Jolin Tsai)          49055              9642\n",
       "15    蘇打綠 (Sodagreen)          47177             11265\n",
       "16  楊丞琳 (Rainie Yang)          46006             11976\n",
       "17         丁噹 (Della)          45762             12837\n",
       "18   梁靜茹 (Fish Leong)          44290              8579\n",
       "19   The Chainsmokers          44215             12477"
      ]
     },
     "execution_count": 7,
     "metadata": {},
     "output_type": "execute_result"
    }
   ],
   "source": [
    "# Write an SQL-query\n",
    "spark.sql(\"\"\"\n",
    "SELECT songs.artist_name as artist, count(msno) as raw_listeners, count(DISTINCT msno) as unique_listeners\n",
    "FROM listen_history JOIN songs ON listen_history.song_id = songs.song_id\n",
    "GROUP BY artist\n",
    "ORDER BY raw_listeners desc\n",
    "\"\"\").toPandas().head(20)"
   ]
  },
  {
   "cell_type": "markdown",
   "metadata": {},
   "source": [
    "#### Task 2:\n",
    "\n",
    "* find out top-3 languages by num of raw listens \n",
    "\n",
    "* build histogram of songs length by language / genre. \n",
    "    * What is the longest genre? \n",
    "    * What is more valuable in terms of length: language or genre?\n",
    "\n",
    "##### Approach\n",
    "* The same understanding of the term `raw_listeners` is used.\n",
    "* I will first extract the dataframe I need, then transform it to the histogram; here I should note that it will not be exactly a histogram per se, more a `barchart`, since histogram is a type of a plot we use for only one variable and here we have two variables. Apart from that, I will need to divide `song_length` by 60000 to find the duration in minutes, right now it is in milliseconds. I will use the `songs` dataframe for this subtask."
   ]
  },
  {
   "cell_type": "code",
   "execution_count": 8,
   "metadata": {},
   "outputs": [
    {
     "name": "stderr",
     "output_type": "stream",
     "text": [
      "                                                                                \r"
     ]
    },
    {
     "data": {
      "text/html": [
       "<div>\n",
       "<style scoped>\n",
       "    .dataframe tbody tr th:only-of-type {\n",
       "        vertical-align: middle;\n",
       "    }\n",
       "\n",
       "    .dataframe tbody tr th {\n",
       "        vertical-align: top;\n",
       "    }\n",
       "\n",
       "    .dataframe thead th {\n",
       "        text-align: right;\n",
       "    }\n",
       "</style>\n",
       "<table border=\"1\" class=\"dataframe\">\n",
       "  <thead>\n",
       "    <tr style=\"text-align: right;\">\n",
       "      <th></th>\n",
       "      <th>language</th>\n",
       "      <th>raw_listeners</th>\n",
       "    </tr>\n",
       "  </thead>\n",
       "  <tbody>\n",
       "    <tr>\n",
       "      <th>0</th>\n",
       "      <td>3.0</td>\n",
       "      <td>4044643</td>\n",
       "    </tr>\n",
       "    <tr>\n",
       "      <th>1</th>\n",
       "      <td>52.0</td>\n",
       "      <td>1864788</td>\n",
       "    </tr>\n",
       "    <tr>\n",
       "      <th>2</th>\n",
       "      <td>31.0</td>\n",
       "      <td>656623</td>\n",
       "    </tr>\n",
       "  </tbody>\n",
       "</table>\n",
       "</div>"
      ],
      "text/plain": [
       "  language  raw_listeners\n",
       "0      3.0        4044643\n",
       "1     52.0        1864788\n",
       "2     31.0         656623"
      ]
     },
     "execution_count": 8,
     "metadata": {},
     "output_type": "execute_result"
    }
   ],
   "source": [
    "# Write an SQL-query\n",
    "spark.sql(\"\"\"\n",
    "SELECT songs.language as language, count(msno) as raw_listeners\n",
    "FROM listen_history JOIN songs ON listen_history.song_id = songs.song_id\n",
    "GROUP BY language\n",
    "ORDER BY raw_listeners desc\n",
    "\"\"\").toPandas().head(3)"
   ]
  },
  {
   "cell_type": "markdown",
   "metadata": {},
   "source": [
    "**Comment**: here I have noticed that some languages have similar codes; for example, 3.0 and 3. Is it a typo or are these different languages?"
   ]
  },
  {
   "cell_type": "markdown",
   "metadata": {},
   "source": [
    "##### Creating a barchart for language-song_length"
   ]
  },
  {
   "cell_type": "code",
   "execution_count": 6,
   "metadata": {},
   "outputs": [
    {
     "name": "stderr",
     "output_type": "stream",
     "text": [
      "                                                                                \r"
     ]
    }
   ],
   "source": [
    "# Write an SQL-query\n",
    "for_hist_lang = spark.sql(\"\"\"\n",
    "SELECT language, sum(song_length) as sum_songs_length_ms, mean(song_length) as mean_songs_length_ms\n",
    "FROM songs\n",
    "GROUP BY language\n",
    "ORDER BY sum_songs_length_ms desc\n",
    "\"\"\").toPandas()"
   ]
  },
  {
   "cell_type": "code",
   "execution_count": 7,
   "metadata": {},
   "outputs": [
    {
     "data": {
      "text/html": [
       "<div>\n",
       "<style scoped>\n",
       "    .dataframe tbody tr th:only-of-type {\n",
       "        vertical-align: middle;\n",
       "    }\n",
       "\n",
       "    .dataframe tbody tr th {\n",
       "        vertical-align: top;\n",
       "    }\n",
       "\n",
       "    .dataframe thead th {\n",
       "        text-align: right;\n",
       "    }\n",
       "</style>\n",
       "<table border=\"1\" class=\"dataframe\">\n",
       "  <thead>\n",
       "    <tr style=\"text-align: right;\">\n",
       "      <th></th>\n",
       "      <th>language</th>\n",
       "      <th>sum_songs_length_ms</th>\n",
       "      <th>mean_songs_length_ms</th>\n",
       "      <th>sum_songs_length_min</th>\n",
       "      <th>mean_songs_length_min</th>\n",
       "    </tr>\n",
       "  </thead>\n",
       "  <tbody>\n",
       "    <tr>\n",
       "      <th>0</th>\n",
       "      <td>52.0</td>\n",
       "      <td>3.134235e+11</td>\n",
       "      <td>234476.641833</td>\n",
       "      <td>5.223725e+06</td>\n",
       "      <td>3.907944</td>\n",
       "    </tr>\n",
       "    <tr>\n",
       "      <th>1</th>\n",
       "      <td>-1.0</td>\n",
       "      <td>1.764514e+11</td>\n",
       "      <td>275935.120002</td>\n",
       "      <td>2.940857e+06</td>\n",
       "      <td>4.598919</td>\n",
       "    </tr>\n",
       "    <tr>\n",
       "      <th>2</th>\n",
       "      <td>3.0</td>\n",
       "      <td>2.594856e+10</td>\n",
       "      <td>244118.316393</td>\n",
       "      <td>4.324759e+05</td>\n",
       "      <td>4.068639</td>\n",
       "    </tr>\n",
       "    <tr>\n",
       "      <th>3</th>\n",
       "      <td>17.0</td>\n",
       "      <td>2.316844e+10</td>\n",
       "      <td>250420.907067</td>\n",
       "      <td>3.861407e+05</td>\n",
       "      <td>4.173682</td>\n",
       "    </tr>\n",
       "    <tr>\n",
       "      <th>4</th>\n",
       "      <td>24.0</td>\n",
       "      <td>9.963970e+09</td>\n",
       "      <td>238692.265787</td>\n",
       "      <td>1.660662e+05</td>\n",
       "      <td>3.978204</td>\n",
       "    </tr>\n",
       "  </tbody>\n",
       "</table>\n",
       "</div>"
      ],
      "text/plain": [
       "  language  sum_songs_length_ms  mean_songs_length_ms  sum_songs_length_min  \\\n",
       "0     52.0         3.134235e+11         234476.641833          5.223725e+06   \n",
       "1     -1.0         1.764514e+11         275935.120002          2.940857e+06   \n",
       "2      3.0         2.594856e+10         244118.316393          4.324759e+05   \n",
       "3     17.0         2.316844e+10         250420.907067          3.861407e+05   \n",
       "4     24.0         9.963970e+09         238692.265787          1.660662e+05   \n",
       "\n",
       "   mean_songs_length_min  \n",
       "0               3.907944  \n",
       "1               4.598919  \n",
       "2               4.068639  \n",
       "3               4.173682  \n",
       "4               3.978204  "
      ]
     },
     "execution_count": 7,
     "metadata": {},
     "output_type": "execute_result"
    }
   ],
   "source": [
    "# Have a look at the dataset\n",
    "for_hist_lang['sum_songs_length_min'] = for_hist_lang['sum_songs_length_ms']/60000\n",
    "for_hist_lang['mean_songs_length_min'] = for_hist_lang['mean_songs_length_ms']/60000\n",
    "for_hist_lang.head()"
   ]
  },
  {
   "cell_type": "code",
   "execution_count": 8,
   "metadata": {},
   "outputs": [
    {
     "data": {
      "image/png": "[encoded data removed]",
      "text/plain": [
       "<Figure size 1440x360 with 1 Axes>"
      ]
     },
     "metadata": {
      "needs_background": "light"
     },
     "output_type": "display_data"
    }
   ],
   "source": [
    "# Create a barchart for sum_songs_length_min \n",
    "fig, ax = plt.subplots(figsize=(20, 5))\n",
    "\n",
    "sns.set_context('paper')\n",
    "sns.barplot(x='language', y='sum_songs_length_min', data=for_hist_lang, ax=ax)\n",
    "ax.set_title(\"Languages by sum_songs_lengths in min\", fontsize=18) \n",
    "\n",
    "plt.tick_params(axis='both', which='major', labelsize=14)\n",
    "plt.xlabel('The code of the language', fontsize=16);\n",
    "plt.ylabel('The sum length of the songs in min', fontsize=16)\n",
    "plt.xticks(rotation=90)\n",
    "plt.show()"
   ]
  },
  {
   "cell_type": "code",
   "execution_count": 25,
   "metadata": {},
   "outputs": [
    {
     "data": {
      "image/png": "[encoded data removed]",
      "text/plain": [
       "<Figure size 1440x360 with 1 Axes>"
      ]
     },
     "metadata": {
      "needs_background": "light"
     },
     "output_type": "display_data"
    }
   ],
   "source": [
    "# Create a barchart for mean_songs_length_min \n",
    "fig, ax = plt.subplots(figsize=(20, 5))\n",
    "\n",
    "sns.set_context('paper')\n",
    "sns.barplot(x='language', y='mean_songs_length_min', data=for_hist_lang, ax=ax)\n",
    "ax.set_title(\"Languages by mean_songs_lengths in min\", fontsize=18) \n",
    "\n",
    "plt.tick_params(axis='both', which='major', labelsize=14)\n",
    "plt.xlabel('The code of the language', fontsize=16);\n",
    "plt.ylabel('The mean length of the songs in min', fontsize=16)\n",
    "plt.xticks(rotation=90)\n",
    "plt.show()"
   ]
  },
  {
   "cell_type": "markdown",
   "metadata": {},
   "source": [
    "##### Creating a barchart for genre-song_length"
   ]
  },
  {
   "cell_type": "code",
   "execution_count": 13,
   "metadata": {},
   "outputs": [
    {
     "name": "stderr",
     "output_type": "stream",
     "text": [
      "                                                                                \r"
     ]
    }
   ],
   "source": [
    "# Write an SQL-query\n",
    "for_hist_genre = spark.sql(\"\"\"\n",
    "SELECT genre_ids, sum(song_length) as sum_songs_length_ms, count(song_length) as count_appearance\n",
    "FROM songs\n",
    "GROUP BY genre_ids\n",
    "ORDER BY sum_songs_length_ms desc\n",
    "\"\"\").toPandas()"
   ]
  },
  {
   "cell_type": "code",
   "execution_count": 14,
   "metadata": {},
   "outputs": [
    {
     "data": {
      "text/html": [
       "<div>\n",
       "<style scoped>\n",
       "    .dataframe tbody tr th:only-of-type {\n",
       "        vertical-align: middle;\n",
       "    }\n",
       "\n",
       "    .dataframe tbody tr th {\n",
       "        vertical-align: top;\n",
       "    }\n",
       "\n",
       "    .dataframe thead th {\n",
       "        text-align: right;\n",
       "    }\n",
       "</style>\n",
       "<table border=\"1\" class=\"dataframe\">\n",
       "  <thead>\n",
       "    <tr style=\"text-align: right;\">\n",
       "      <th></th>\n",
       "      <th>genre_ids</th>\n",
       "      <th>sum_songs_length_ms</th>\n",
       "      <th>count_appearance</th>\n",
       "      <th>sum_songs_length_min</th>\n",
       "    </tr>\n",
       "  </thead>\n",
       "  <tbody>\n",
       "    <tr>\n",
       "      <th>1042</th>\n",
       "      <td>509|958</td>\n",
       "      <td>94563.0</td>\n",
       "      <td>1</td>\n",
       "      <td>1.576050</td>\n",
       "    </tr>\n",
       "    <tr>\n",
       "      <th>1043</th>\n",
       "      <td>1152|531</td>\n",
       "      <td>81113.0</td>\n",
       "      <td>1</td>\n",
       "      <td>1.351883</td>\n",
       "    </tr>\n",
       "    <tr>\n",
       "      <th>1044</th>\n",
       "      <td>1969|444|2100</td>\n",
       "      <td>51147.0</td>\n",
       "      <td>1</td>\n",
       "      <td>0.852450</td>\n",
       "    </tr>\n",
       "    <tr>\n",
       "      <th>1045</th>\n",
       "      <td>488|545</td>\n",
       "      <td>37709.0</td>\n",
       "      <td>1</td>\n",
       "      <td>0.628483</td>\n",
       "    </tr>\n",
       "    <tr>\n",
       "      <th>1046</th>\n",
       "      <td>545|873</td>\n",
       "      <td>24346.0</td>\n",
       "      <td>1</td>\n",
       "      <td>0.405767</td>\n",
       "    </tr>\n",
       "  </tbody>\n",
       "</table>\n",
       "</div>"
      ],
      "text/plain": [
       "          genre_ids  sum_songs_length_ms  count_appearance  \\\n",
       "1042        509|958              94563.0                 1   \n",
       "1043       1152|531              81113.0                 1   \n",
       "1044  1969|444|2100              51147.0                 1   \n",
       "1045        488|545              37709.0                 1   \n",
       "1046        545|873              24346.0                 1   \n",
       "\n",
       "      sum_songs_length_min  \n",
       "1042              1.576050  \n",
       "1043              1.351883  \n",
       "1044              0.852450  \n",
       "1045              0.628483  \n",
       "1046              0.405767  "
      ]
     },
     "execution_count": 14,
     "metadata": {},
     "output_type": "execute_result"
    }
   ],
   "source": [
    "# Have a look at the dataset\n",
    "for_hist_genre['sum_songs_length_min'] = for_hist_genre['sum_songs_length_ms']/60000\n",
    "for_hist_genre.tail(5)"
   ]
  },
  {
   "cell_type": "markdown",
   "metadata": {},
   "source": [
    "**Comment**: here we have a problem that some songs have multiple genres divided by bars in genre_ids. Ideally we need to separate these genres. For example, the observation number ***1042*** has 2 genres: 509 and 958, `sum_songth_length_min` equals `1.576050`. We need to add this amount of minutes to each genre respectively, as well as `count_appearance`."
   ]
  },
  {
   "cell_type": "code",
   "execution_count": 15,
   "metadata": {},
   "outputs": [],
   "source": [
    "# Need this to delete None in genre_ids\n",
    "for_hist_genre = for_hist_genre[~for_hist_genre['genre_ids'].isna()]"
   ]
  },
  {
   "cell_type": "code",
   "execution_count": 16,
   "metadata": {},
   "outputs": [],
   "source": [
    "# 1 - genre, 3 -count_appearance, 4 - sum_songs_length_min\n",
    "genres = dict()\n",
    "for i in for_hist_genre.itertuples():\n",
    "    if '|' in i[1]:\n",
    "        for j in i[1].split('|'):\n",
    "            if j in genres.keys():\n",
    "                genres[j] = [genres[j][0] + i[4], genres[j][1] + i[3]]\n",
    "            else:\n",
    "                genres[j] = [i[4], i[3]]\n",
    "    else:\n",
    "        if i[1] in genres.keys():\n",
    "            genres[i[1]] = [genres[i[1]][0] + i[4], genres[i[1]][1] + i[3]]\n",
    "        else:\n",
    "            genres[i[1]] = [i[4], i[3]]"
   ]
  },
  {
   "cell_type": "code",
   "execution_count": 17,
   "metadata": {},
   "outputs": [
    {
     "data": {
      "text/plain": [
       "[2299058.352699998, 589334]"
      ]
     },
     "execution_count": 17,
     "metadata": {},
     "output_type": "execute_result"
    }
   ],
   "source": [
    "# What is inside the dictionary\n",
    "genres['465']"
   ]
  },
  {
   "cell_type": "code",
   "execution_count": 18,
   "metadata": {},
   "outputs": [],
   "source": [
    "# Make a dataframe from a dictionary genres\n",
    "df_genres = pd.DataFrame()\n",
    "df_genres['genre'] = genres.keys()\n",
    "df_genres['combined'] = genres.values()"
   ]
  },
  {
   "cell_type": "code",
   "execution_count": 19,
   "metadata": {},
   "outputs": [
    {
     "data": {
      "text/html": [
       "<div>\n",
       "<style scoped>\n",
       "    .dataframe tbody tr th:only-of-type {\n",
       "        vertical-align: middle;\n",
       "    }\n",
       "\n",
       "    .dataframe tbody tr th {\n",
       "        vertical-align: top;\n",
       "    }\n",
       "\n",
       "    .dataframe thead th {\n",
       "        text-align: right;\n",
       "    }\n",
       "</style>\n",
       "<table border=\"1\" class=\"dataframe\">\n",
       "  <thead>\n",
       "    <tr style=\"text-align: right;\">\n",
       "      <th></th>\n",
       "      <th>genre</th>\n",
       "      <th>combined</th>\n",
       "    </tr>\n",
       "  </thead>\n",
       "  <tbody>\n",
       "    <tr>\n",
       "      <th>0</th>\n",
       "      <td>465</td>\n",
       "      <td>[2299058.352699998, 589334]</td>\n",
       "    </tr>\n",
       "    <tr>\n",
       "      <th>1</th>\n",
       "      <td>958</td>\n",
       "      <td>[902792.5248166672, 182884]</td>\n",
       "    </tr>\n",
       "    <tr>\n",
       "      <th>2</th>\n",
       "      <td>1609</td>\n",
       "      <td>[855125.5055499994, 177297]</td>\n",
       "    </tr>\n",
       "    <tr>\n",
       "      <th>3</th>\n",
       "      <td>2022</td>\n",
       "      <td>[713407.9959166667, 176569]</td>\n",
       "    </tr>\n",
       "    <tr>\n",
       "      <th>4</th>\n",
       "      <td>2122</td>\n",
       "      <td>[629195.1273833337, 149645]</td>\n",
       "    </tr>\n",
       "  </tbody>\n",
       "</table>\n",
       "</div>"
      ],
      "text/plain": [
       "  genre                     combined\n",
       "0   465  [2299058.352699998, 589334]\n",
       "1   958  [902792.5248166672, 182884]\n",
       "2  1609  [855125.5055499994, 177297]\n",
       "3  2022  [713407.9959166667, 176569]\n",
       "4  2122  [629195.1273833337, 149645]"
      ]
     },
     "execution_count": 19,
     "metadata": {},
     "output_type": "execute_result"
    }
   ],
   "source": [
    "# Take a look at the dataframe\n",
    "df_genres.head(5)"
   ]
  },
  {
   "cell_type": "code",
   "execution_count": 20,
   "metadata": {},
   "outputs": [],
   "source": [
    "# Prettify the dataset we got\n",
    "df_genres = df_genres.combined.apply(pd.Series) \\\n",
    "    .merge(df_genres, left_index = True, right_index = True) \\\n",
    "    .drop([\"combined\"], axis = 1) \\\n",
    "    .rename(columns={0: \"sum_songs_length_min\", 1: \"count_appearance\"})\n",
    "\n",
    "# Add the mean of songs' length in minutes\n",
    "df_genres['mean_songs_length_min'] = df_genres[\"sum_songs_length_min\"] / df_genres[\"count_appearance\"]"
   ]
  },
  {
   "cell_type": "code",
   "execution_count": 21,
   "metadata": {},
   "outputs": [
    {
     "data": {
      "text/html": [
       "<div>\n",
       "<style scoped>\n",
       "    .dataframe tbody tr th:only-of-type {\n",
       "        vertical-align: middle;\n",
       "    }\n",
       "\n",
       "    .dataframe tbody tr th {\n",
       "        vertical-align: top;\n",
       "    }\n",
       "\n",
       "    .dataframe thead th {\n",
       "        text-align: right;\n",
       "    }\n",
       "</style>\n",
       "<table border=\"1\" class=\"dataframe\">\n",
       "  <thead>\n",
       "    <tr style=\"text-align: right;\">\n",
       "      <th></th>\n",
       "      <th>sum_songs_length_min</th>\n",
       "      <th>count_appearance</th>\n",
       "      <th>genre</th>\n",
       "      <th>mean_songs_length_min</th>\n",
       "    </tr>\n",
       "  </thead>\n",
       "  <tbody>\n",
       "    <tr>\n",
       "      <th>0</th>\n",
       "      <td>2.299058e+06</td>\n",
       "      <td>589334.0</td>\n",
       "      <td>465</td>\n",
       "      <td>3.901113</td>\n",
       "    </tr>\n",
       "    <tr>\n",
       "      <th>1</th>\n",
       "      <td>9.027925e+05</td>\n",
       "      <td>182884.0</td>\n",
       "      <td>958</td>\n",
       "      <td>4.936422</td>\n",
       "    </tr>\n",
       "    <tr>\n",
       "      <th>2</th>\n",
       "      <td>8.551255e+05</td>\n",
       "      <td>177297.0</td>\n",
       "      <td>1609</td>\n",
       "      <td>4.823125</td>\n",
       "    </tr>\n",
       "    <tr>\n",
       "      <th>3</th>\n",
       "      <td>7.134080e+05</td>\n",
       "      <td>176569.0</td>\n",
       "      <td>2022</td>\n",
       "      <td>4.040392</td>\n",
       "    </tr>\n",
       "    <tr>\n",
       "      <th>4</th>\n",
       "      <td>6.291951e+05</td>\n",
       "      <td>149645.0</td>\n",
       "      <td>2122</td>\n",
       "      <td>4.204585</td>\n",
       "    </tr>\n",
       "  </tbody>\n",
       "</table>\n",
       "</div>"
      ],
      "text/plain": [
       "   sum_songs_length_min  count_appearance genre  mean_songs_length_min\n",
       "0          2.299058e+06          589334.0   465               3.901113\n",
       "1          9.027925e+05          182884.0   958               4.936422\n",
       "2          8.551255e+05          177297.0  1609               4.823125\n",
       "3          7.134080e+05          176569.0  2022               4.040392\n",
       "4          6.291951e+05          149645.0  2122               4.204585"
      ]
     },
     "execution_count": 21,
     "metadata": {},
     "output_type": "execute_result"
    }
   ],
   "source": [
    "# Take a look at the dataframe we got\n",
    "df_genres = df_genres.sort_values(by='sum_songs_length_min', ascending=False)\n",
    "df_genres.head()"
   ]
  },
  {
   "cell_type": "code",
   "execution_count": 22,
   "metadata": {},
   "outputs": [
    {
     "data": {
      "image/png": "[encoded data removed]",
      "text/plain": [
       "<Figure size 1440x360 with 1 Axes>"
      ]
     },
     "metadata": {
      "needs_background": "light"
     },
     "output_type": "display_data"
    }
   ],
   "source": [
    "# Create a barchart for sum_songs_length_min: version 1\n",
    "fig, ax = plt.subplots(figsize=(20, 5))\n",
    "\n",
    "sns.set_context('paper')\n",
    "sns.barplot(x='genre', y='sum_songs_length_min', data=df_genres, ax=ax)\n",
    "ax.set_title(\"Genres by sum_songs_lengths in min\", fontsize=18) \n",
    "\n",
    "plt.tick_params(axis='both', which='major', labelsize=6)\n",
    "plt.xlabel('The code of the genre', fontsize=16);\n",
    "plt.ylabel('The sum length of the songs in min', fontsize=16)\n",
    "plt.xticks(rotation=90)\n",
    "plt.show()"
   ]
  },
  {
   "cell_type": "code",
   "execution_count": 23,
   "metadata": {},
   "outputs": [
    {
     "data": {
      "image/png": "[encoded data removed]",
      "text/plain": [
       "<Figure size 1440x360 with 1 Axes>"
      ]
     },
     "metadata": {
      "needs_background": "light"
     },
     "output_type": "display_data"
    }
   ],
   "source": [
    "# To make it more readable, I will form a grath from a \"shorter\" dataset that will only contain ~30% of the initial dataset\n",
    "# # Create a barchart for sum_songs_length_min: version 2\n",
    "fig, ax = plt.subplots(figsize=(20, 5))\n",
    "\n",
    "sns.set_context('paper')\n",
    "sns.barplot(x='genre', y='sum_songs_length_min', data=df_genres.head(60), ax=ax)\n",
    "ax.set_title(\"Genres by sum_songs_lengths in min\", fontsize=18) \n",
    "\n",
    "plt.tick_params(axis='both', which='major', labelsize=8)\n",
    "plt.xlabel('The code of the genre', fontsize=16);\n",
    "plt.ylabel('The sum length of the songs in min', fontsize=16)\n",
    "plt.xticks(rotation=90)\n",
    "plt.show()"
   ]
  },
  {
   "cell_type": "code",
   "execution_count": 24,
   "metadata": {},
   "outputs": [
    {
     "data": {
      "image/png": "[encoded data removed]",
      "text/plain": [
       "<Figure size 1440x360 with 1 Axes>"
      ]
     },
     "metadata": {
      "needs_background": "light"
     },
     "output_type": "display_data"
    }
   ],
   "source": [
    "# Create a barchart for mean_songs_length_min: version 1\n",
    "fig, ax = plt.subplots(figsize=(20, 5))\n",
    "\n",
    "sns.set_context('paper')\n",
    "sns.barplot(x='genre', y='mean_songs_length_min', data=df_genres, ax=ax)\n",
    "ax.set_title(\"Genres by mean_songs_lengths in min\", fontsize=18) \n",
    "\n",
    "plt.tick_params(axis='both', which='major', labelsize=6)\n",
    "plt.xlabel('The code of the genre', fontsize=16);\n",
    "plt.ylabel('The mean length of the songs in min', fontsize=16)\n",
    "plt.xticks(rotation=90)\n",
    "plt.show()"
   ]
  },
  {
   "cell_type": "markdown",
   "metadata": {},
   "source": [
    "**Answer** to the question on `What is more valuable in terms of length: language or genre?`.\n",
    "\n",
    "It depends on what you want to know. \n",
    "\n",
    "I would say that sum plots help to simply identify the most and the least popular language/genre which might be beneficial.\n",
    "\n",
    "Mean plots seem more interesting though. For languages the songs' length is approxiamtely the same - average approximately equals 4 minutes, but for the genres in is a different story: there are definitely some **outlier**: the average songs' length for them seem to be noticably longer, for some even more than 20 minutes. \n",
    "\n",
    "So, in my opinion, **genre** is more valuable in terms of lenght.\n",
    "\n",
    "P.S. I intentionally did not apply sorting to the mean plots, so that the reader can easily compare the sum and the mean plots."
   ]
  }
 ],
 "metadata": {
  "kernelspec": {
   "display_name": "Python 3 (ipykernel)",
   "language": "python",
   "name": "python3"
  },
  "language_info": {
   "codemirror_mode": {
    "name": "ipython",
    "version": 3
   },
   "file_extension": ".py",
   "mimetype": "text/x-python",
   "name": "python",
   "nbconvert_exporter": "python",
   "pygments_lexer": "ipython3",
   "version": "3.9.7"
  }
 },
 "nbformat": 4,
 "nbformat_minor": 4
}
